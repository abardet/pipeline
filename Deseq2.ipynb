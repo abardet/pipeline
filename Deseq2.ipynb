{
 "cells": [
  {
   "cell_type": "markdown",
   "id": "e3aa95d2-7837-4d38-ab5f-a03c2e0fe20e",
   "metadata": {},
   "source": [
    "# My R notebook\n",
    "## Load library"
   ]
  },
  {
   "cell_type": "code",
   "execution_count": null,
   "id": "1ee8a54e-eb8c-4c28-b8e3-e05a706ff501",
   "metadata": {},
   "outputs": [],
   "source": [
    "library(DESeq2)"
   ]
  },
  {
   "cell_type": "markdown",
   "id": "1c2f3c7b-bb1a-4224-93bf-aac5fc044ea4",
   "metadata": {},
   "source": [
    "## Read data"
   ]
  },
  {
   "cell_type": "code",
   "execution_count": null,
   "id": "0cc1eea4-5072-4914-bde6-99caa74615b0",
   "metadata": {},
   "outputs": [],
   "source": [
    "cts <- read.table(\"counts.txt\", sep=\"\\t\",row.names=1)\n",
    "colnames(cts) = c(paste0(\"condition1_\",1:3),paste0(\"condition2_\",1:3))\n",
    "head(cts)"
   ]
  },
  {
   "cell_type": "markdown",
   "id": "90f284e6-6cf2-43ff-afea-80648230700e",
   "metadata": {},
   "source": [
    "## Experimental data preparation"
   ]
  },
  {
   "cell_type": "code",
   "execution_count": null,
   "id": "eb409b2b-fac1-491f-973b-abaabadf7b45",
   "metadata": {},
   "outputs": [],
   "source": [
    "coldata = cbind.data.frame(condition= c(rep(\"condition1\", 3),rep(\"condition2\", 3)))\n",
    "rownames(coldata) = c(paste0(\"condition1_\",1:3),paste0(\"condition2_\",1:3))\n",
    "head(coldata)"
   ]
  },
  {
   "cell_type": "markdown",
   "id": "b52684f4-7c9b-43f4-b3b3-a8d10fe31895",
   "metadata": {},
   "source": [
    "## Deseq2"
   ]
  },
  {
   "cell_type": "code",
   "execution_count": null,
   "id": "4116039e-aaed-4545-b3cc-81155116cc8e",
   "metadata": {},
   "outputs": [],
   "source": [
    "dds <- DESeqDataSetFromMatrix(countData = cts,\n",
    "                              colData = coldata ,\n",
    "                              design= ~ condition)\n",
    "dds <- DESeq(dds)\n",
    "resultsNames(dds) # lists the coefficients"
   ]
  },
  {
   "cell_type": "markdown",
   "id": "8dc8d18c-59d8-4a13-a5fe-aff4993973cb",
   "metadata": {},
   "source": [
    "## Get results"
   ]
  },
  {
   "cell_type": "code",
   "execution_count": null,
   "id": "25a03159-052e-4aeb-ab54-a68876d43926",
   "metadata": {},
   "outputs": [],
   "source": [
    "res <- results(dds, name=\"condition_condition2_vs_condition1\")\n",
    "res"
   ]
  },
  {
   "cell_type": "markdown",
   "id": "efca73a4-b237-436a-8ceb-cebe57d9e547",
   "metadata": {},
   "source": [
    "## Display results"
   ]
  },
  {
   "cell_type": "code",
   "execution_count": null,
   "id": "c5f2e21f-6541-4ac8-9617-4ccff01fa16d",
   "metadata": {},
   "outputs": [],
   "source": [
    "plotMA(res, ylim=c(-2,2))"
   ]
  },
  {
   "cell_type": "markdown",
   "id": "8a6dab37-b0d1-41cb-ac81-420270b00319",
   "metadata": {},
   "source": [
    "## Export plot"
   ]
  },
  {
   "cell_type": "code",
   "execution_count": null,
   "id": "c34035f2-68ab-40e7-9b67-8d7ee0b707cd",
   "metadata": {},
   "outputs": [],
   "source": [
    "png(file = \"deseq2_demo.png\", width = 800, height = 700)\n",
    "plotMA(res, ylim=c(-2,2))\n",
    "dev.off()"
   ]
  },
  {
   "cell_type": "markdown",
   "id": "c6a4e8a1-6e12-457d-a569-07d2ea3ce083",
   "metadata": {},
   "source": [
    "## Export Data"
   ]
  },
  {
   "cell_type": "code",
   "execution_count": null,
   "id": "f8476294-43a7-42a6-97f3-4ca5c6fcaa9c",
   "metadata": {},
   "outputs": [],
   "source": [
    "write.table(res,\"deseq2_demo.tsv\", quote=F, sep=\"\\t\", col.names=T)"
   ]
  },
  {
   "cell_type": "code",
   "execution_count": 4,
   "id": "7af4ae1f-9a02-4fa7-a3ed-8615f91e8c90",
   "metadata": {},
   "outputs": [
    {
     "data": {
      "text/plain": [
       "R version 4.2.3 (2023-03-15)\n",
       "Platform: x86_64-conda-linux-gnu (64-bit)\n",
       "Running under: Ubuntu 20.04.6 LTS\n",
       "\n",
       "Matrix products: default\n",
       "BLAS/LAPACK: /shared/ifbstor1/software/miniconda/envs/r-4.2.3/lib/libopenblasp-r0.3.21.so\n",
       "\n",
       "locale:\n",
       " [1] LC_CTYPE=C.UTF-8    LC_NUMERIC=C        LC_TIME=C          \n",
       " [4] LC_COLLATE=C        LC_MONETARY=C       LC_MESSAGES=C      \n",
       " [7] LC_PAPER=C          LC_NAME=C           LC_ADDRESS=C       \n",
       "[10] LC_TELEPHONE=C      LC_MEASUREMENT=C    LC_IDENTIFICATION=C\n",
       "\n",
       "attached base packages:\n",
       "[1] stats4    stats     graphics  grDevices utils     datasets  methods  \n",
       "[8] base     \n",
       "\n",
       "other attached packages:\n",
       " [1] DESeq2_1.38.3               SummarizedExperiment_1.28.0\n",
       " [3] Biobase_2.62.0              MatrixGenerics_1.10.0      \n",
       " [5] matrixStats_1.2.0           GenomicRanges_1.50.2       \n",
       " [7] GenomeInfoDb_1.34.9         IRanges_2.32.0             \n",
       " [9] S4Vectors_0.36.2            BiocGenerics_0.44.0        \n",
       "\n",
       "loaded via a namespace (and not attached):\n",
       " [1] locfit_1.5-9.9         Rcpp_1.0.12            lattice_0.22-6        \n",
       " [4] png_0.1-8              Biostrings_2.66.0      digest_0.6.35         \n",
       " [7] utf8_1.2.4             IRdisplay_1.1          R6_2.5.1              \n",
       "[10] repr_1.1.7             RSQLite_2.3.6          evaluate_0.23         \n",
       "[13] httr_1.4.7             ggplot2_3.5.0          pillar_1.9.0          \n",
       "[16] zlibbioc_1.44.0        rlang_1.1.3            uuid_1.2-0            \n",
       "[19] annotate_1.76.0        blob_1.2.4             Matrix_1.6-5          \n",
       "[22] BiocParallel_1.32.6    geneplotter_1.76.0     RCurl_1.98-1.14       \n",
       "[25] bit_4.0.5              munsell_0.5.1          DelayedArray_0.24.0   \n",
       "[28] compiler_4.2.3         pkgconfig_2.0.3        base64enc_0.1-3       \n",
       "[31] htmltools_0.5.8.1      tidyselect_1.2.1       KEGGREST_1.38.0       \n",
       "[34] tibble_3.2.1           GenomeInfoDbData_1.2.9 codetools_0.2-20      \n",
       "[37] XML_3.99-0.16.1        fansi_1.0.6            crayon_1.5.2          \n",
       "[40] dplyr_1.1.4            bitops_1.0-7           grid_4.2.3            \n",
       "[43] jsonlite_1.8.8         xtable_1.8-4           gtable_0.3.4          \n",
       "[46] lifecycle_1.0.4        DBI_1.2.2              magrittr_2.0.3        \n",
       "[49] scales_1.3.0           cli_3.6.2              cachem_1.0.8          \n",
       "[52] XVector_0.38.0         generics_0.1.3         vctrs_0.6.5           \n",
       "[55] IRkernel_1.3.2         RColorBrewer_1.1-3     tools_4.2.3           \n",
       "[58] bit64_4.0.5            glue_1.7.0             parallel_4.2.3        \n",
       "[61] fastmap_1.1.1          AnnotationDbi_1.60.2   colorspace_2.1-0      \n",
       "[64] memoise_2.0.1          pbdZMQ_0.3-11         "
      ]
     },
     "metadata": {},
     "output_type": "display_data"
    }
   ],
   "source": [
    "sessionInfo()"
   ]
  }
 ],
 "metadata": {
  "kernelspec": {
   "display_name": "R 4.2.3",
   "language": "R",
   "name": "r-4.2.3"
  },
  "language_info": {
   "codemirror_mode": "r",
   "file_extension": ".r",
   "mimetype": "text/x-r-source",
   "name": "R",
   "pygments_lexer": "r",
   "version": "4.2.3"
  }
 },
 "nbformat": 4,
 "nbformat_minor": 5
}
